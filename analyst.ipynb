{
 "cells": [
  {
   "cell_type": "code",
   "execution_count": 80,
   "id": "ff2cdccc",
   "metadata": {},
   "outputs": [],
   "source": [
    "import json\n",
    "import pandas as pd\n",
    "from nltk.tokenize import word_tokenize"
   ]
  },
  {
   "cell_type": "code",
   "execution_count": 81,
   "id": "aebefc22",
   "metadata": {},
   "outputs": [
    {
     "name": "stderr",
     "output_type": "stream",
     "text": [
      "[nltk_data] Downloading package punkt to\n",
      "[nltk_data]     /Users/zhuangxiaojian/nltk_data...\n",
      "[nltk_data]   Package punkt is already up-to-date!\n",
      "[nltk_data] Downloading package punkt_tab to\n",
      "[nltk_data]     /Users/zhuangxiaojian/nltk_data...\n",
      "[nltk_data]   Package punkt_tab is already up-to-date!\n",
      "[nltk_data] Downloading package averaged_perceptron_tagger_eng to\n",
      "[nltk_data]     /Users/zhuangxiaojian/nltk_data...\n",
      "[nltk_data]   Package averaged_perceptron_tagger_eng is already up-to-\n",
      "[nltk_data]       date!\n",
      "[nltk_data] Downloading package stopwords to\n",
      "[nltk_data]     /Users/zhuangxiaojian/nltk_data...\n",
      "[nltk_data]   Package stopwords is already up-to-date!\n"
     ]
    }
   ],
   "source": [
    "import nltk\n",
    "from nltk import word_tokenize\n",
    "nltk.download('punkt')\n",
    "nltk.download(\"punkt_tab\")\n",
    "\n",
    "from nltk import pos_tag\n",
    "nltk.download(\"averaged_perceptron_tagger_eng\")\n",
    "\n",
    "from nltk.corpus import stopwords\n",
    "nltk.download('stopwords')\n",
    "stopwords = set(stopwords.words('english'))\n",
    "\n",
    "from collections import Counter"
   ]
  },
  {
   "cell_type": "code",
   "execution_count": 95,
   "id": "a4e7af3a",
   "metadata": {},
   "outputs": [],
   "source": [
    "data = []\n",
    "\n",
    "for file_number in range(1, 37):\n",
    "    with open(f'outputs/json/{file_number}.json', 'r', encoding='utf-8') as f:\n",
    "        file_data = json.load(f)\n",
    "        data.append(file_data)\n"
   ]
  },
  {
   "cell_type": "code",
   "execution_count": 96,
   "id": "6d221185",
   "metadata": {},
   "outputs": [],
   "source": [
    "tf = pd.DataFrame(data)"
   ]
  },
  {
   "cell_type": "code",
   "execution_count": 19,
   "id": "d7c26237",
   "metadata": {},
   "outputs": [],
   "source": [
    "wob_analysis = [\n",
    "    \"responsibilities\",\n",
    "    \"required_core_skills\",\n",
    "    \"desirable_skills\"\n",
    "]\n"
   ]
  },
  {
   "cell_type": "code",
   "execution_count": 21,
   "id": "2f9df7a3",
   "metadata": {},
   "outputs": [],
   "source": [
    "distribution_analysis = [\n",
    "    \"level\",\n",
    "    \"employment_type\",\n",
    "    \"programming_languages\",\n",
    "    \"frameworks_tools\",\n",
    "    \"databases\",\n",
    "    \"cloud_platforms\",\n",
    "    \"api_protocols\",\n",
    "    \"methodologies\",\n",
    "    \"mobile_technologies\",\n",
    "    \"work_permit_required\",\n",
    "    \"visa_sponsorship\",\n",
    "    \n",
    "\n",
    "]"
   ]
  },
  {
   "cell_type": "code",
   "execution_count": 22,
   "id": "09725aa0",
   "metadata": {},
   "outputs": [],
   "source": [
    "tokenized_analysis = [\n",
    "    \"location\",\n",
    "    \"role\",\n",
    "    \"education_required\",\n",
    "    \"language_requirements\",\n",
    "    \"domain_keywords\"\n",
    "    \n",
    "]"
   ]
  },
  {
   "cell_type": "code",
   "execution_count": 23,
   "id": "2855e466",
   "metadata": {},
   "outputs": [],
   "source": [
    "numbers_data = [\n",
    "    \"years_experience_min\",\n",
    "    \"years_experience_max\",\n",
    "    \"salary_eur_min\",\n",
    "    \"salary_eur_max\",\n",
    "]"
   ]
  },
  {
   "cell_type": "markdown",
   "id": "a6fa972e",
   "metadata": {},
   "source": [
    "#### TFIDF "
   ]
  },
  {
   "cell_type": "code",
   "execution_count": null,
   "id": "7f958432",
   "metadata": {},
   "outputs": [],
   "source": [
    "from collections import defaultdict\n",
    "import numpy as np\n",
    "from sklearn.feature_extraction.text import TfidfVectorizer\n",
    "\n",
    "def get_tfidf_skills(data):\n",
    "    match_data = defaultdict(lambda: {\n",
    "        \"programming_languages\": [],\n",
    "        \"frameworks_tools\": [],\n",
    "        \"cloud_platforms\": [],\n",
    "        \"databases\":[],\n",
    "        \"api_protocols\":[],\n",
    "        \"methodologies\": []\n",
    "    })\n",
    "\n",
    "    for _, row in data.iterrows():\n",
    "        r = row[\"role\"]\n",
    "        if pd.isna(r):\n",
    "            continue\n",
    "        match_data[r][\"programming_languages\"].extend(row[\"programming_languages\"])\n",
    "        match_data[r][\"frameworks_tools\"].extend(row[\"frameworks_tools\"])\n",
    "        match_data[r][\"cloud_platforms\"].extend(row[\"cloud_platforms\"])\n",
    "        match_data[r][\"databases\"].extend(row[\"databases\"])\n",
    "        match_data[r][\"api_protocols\"].extend(row[\"api_protocols\"])\n",
    "        match_data[r][\"methodologies\"].extend(row[\"methodologies\"])\n",
    "\n",
    "    role_docs = {}\n",
    "\n",
    "    for role, fields in match_data.items():\n",
    "        all_skills = []\n",
    "        for skill_list in fields.values():\n",
    "            all_skills.extend(skill_list)\n",
    "        skill_text = \" \".join(all_skills)  # 词袋字符串\n",
    "        role_docs[role] = skill_text\n",
    "\n",
    "    roles = list(role_docs.keys())\n",
    "    docs = list(role_docs.values())\n",
    "\n",
    "    vectorizer = TfidfVectorizer()\n",
    "    X = vectorizer.fit_transform(docs)  # shape: (num_roles, num_skills)\n",
    "\n",
    "    feature_names = vectorizer.get_feature_names_out()\n",
    "\n",
    "    top_k = 10\n",
    "    role_top_skills = {}\n",
    "\n",
    "    for i, role in enumerate(roles):\n",
    "        row = X[i].toarray()[0]  # index i's TF-IDF vector\n",
    "        top_indices = np.argsort(row)[::-1][:top_k]\n",
    "        top_skills = [(feature_names[j], row[j]) for j in top_indices if row[j] > 0]\n",
    "        role_top_skills[role] = top_skills\n",
    "\n",
    "    return role_top_skills"
   ]
  },
  {
   "cell_type": "markdown",
   "id": "264b11c1",
   "metadata": {},
   "source": [
    "PMI"
   ]
  },
  {
   "cell_type": "code",
   "execution_count": null,
   "id": "0cbc5e45",
   "metadata": {},
   "outputs": [],
   "source": [
    "from collections import Counter\n",
    "from itertools import combinations\n",
    "import math\n",
    "import networkx as nx\n",
    "\n",
    "\n",
    "def get_PMI_networks():\n",
    "    job_skills_list = []\n",
    "    for _, row in tf.iterrows():\n",
    "        skills = []\n",
    "        skills.extend(row[\"programming_languages\"])\n",
    "        skills.extend(row[\"frameworks_tools\"])\n",
    "        skills.extend(row[\"cloud_platforms\"])\n",
    "        skills.extend(row[\"databases\"])\n",
    "        skills.extend(row[\"api_protocols\"])\n",
    "        skills.extend(row[\"methodologies\"])\n",
    "        job_skills_list.append(skills)\n",
    "\n",
    "        skill_freq = Counter()\n",
    "        pair_freq = Counter()\n",
    "        total_docs = len(job_skills_list)\n",
    "\n",
    "        for skill_list in job_skills_list:\n",
    "            skills = set(skill_list)  # 去重，只考虑“是否出现”\n",
    "            for s in skills:\n",
    "                skill_freq[s] += 1\n",
    "            for s1, s2 in combinations(sorted(skills), 2):  # 排序 + 两两组合\n",
    "                pair_freq[(s1, s2)] += 1\n",
    "\n",
    "            pmi_scores = {}\n",
    "\n",
    "            for (s1, s2), co_freq in pair_freq.items():\n",
    "                p_x = skill_freq[s1] / total_docs\n",
    "                p_y = skill_freq[s2] / total_docs\n",
    "                p_xy = co_freq / total_docs\n",
    "\n",
    "                if p_xy > 0 and p_x > 0 and p_y > 0:\n",
    "                    pmi = math.log2(p_xy / (p_x * p_y))\n",
    "                    pmi_scores[(s1, s2)] = pmi\n",
    "\n",
    "        MIN_COFREQ = 3\n",
    "        pmi_filtered = {\n",
    "            (s1, s2): pmi\n",
    "            for (s1, s2), pmi in pmi_scores.items()\n",
    "            if pair_freq[(s1, s2)] >= MIN_COFREQ and pmi > 0\n",
    "        }\n",
    "        G = nx.Graph()\n",
    "\n",
    "        for (s1, s2), pmi in pmi_filtered.items():\n",
    "            G.add_edge(s1, s2, weight=pmi)\n"
   ]
  },
  {
   "cell_type": "code",
   "execution_count": null,
   "id": "b0a0bd70",
   "metadata": {},
   "outputs": [],
   "source": [
    "import matplotlib.pyplot as plt\n",
    "\n",
    "pos = nx.spring_layout(G, k=0.5)\n",
    "plt.figure(figsize=(12, 10))\n",
    "nx.draw(G, pos, with_labels=True, node_size=1000, node_color=\"lightblue\", edge_color=\"gray\")\n",
    "plt.title(\"Skill Co-occurrence Network (PMI Weighted)\")\n",
    "plt.show()\n",
    "\n",
    "\n"
   ]
  },
  {
   "cell_type": "code",
   "execution_count": null,
   "id": "af4a88a0",
   "metadata": {},
   "outputs": [],
   "source": [
    "LEVEL_SCORE = {\n",
    "    \"intern\": 1,\n",
    "    \"junior\": 2,\n",
    "    \"mid\": 3,\n",
    "    \"senior\": 4,\n",
    "    \"lead\": 5,\n",
    "    \"manager\": 6,\n",
    "}"
   ]
  },
  {
   "cell_type": "code",
   "execution_count": 64,
   "id": "a092a15b",
   "metadata": {},
   "outputs": [],
   "source": [
    "import spacy\n",
    "nlp = spacy.load(\"en_core_web_sm\")\n"
   ]
  },
  {
   "cell_type": "code",
   "execution_count": 91,
   "id": "e86035fb",
   "metadata": {},
   "outputs": [
    {
     "data": {
      "text/plain": [
       "0     [assist_in_testing,_debugging,_and_deploying_n...\n",
       "1     [analyze_applications_to_identify_vulnerabilit...\n",
       "2     [maintain_a_proactive_and_positive_attitude_in...\n",
       "3     [assist_in_analyzing_and_addressing_complex_pr...\n",
       "4     [experience_in_monitoring_tools_such_as_autosy...\n",
       "5     [build_software_from_the_ground_up_and_take_fu...\n",
       "6     [accessing_asic_registers_over_spi_bus,_smbus,...\n",
       "7     [collaborate_with_development_on_intelligent_a...\n",
       "8     [developing_skills_and_awareness_of_security_i...\n",
       "9     [coding_solutions,_completing_unit_tests,_and_...\n",
       "10    [assistance_in_developing_and_integrating_inte...\n",
       "11    [collaborate_with_cross_functional_teams_to_in...\n",
       "12    [design,_develop,_and_implement_data_driven_so...\n",
       "13                                                   []\n",
       "14    [assist_in_developing_and_implementing_server_...\n",
       "15    [conduct_code_reviews_of_other_team_members_wo...\n",
       "16    [learning_days_–_take_time_to_focus_on_your_fi...\n",
       "17    [assist_in_the_configuration_and_customization...\n",
       "18    [build_reusable_ui_components_and_libraries_us...\n",
       "Name: responsibilities, dtype: object"
      ]
     },
     "execution_count": 91,
     "metadata": {},
     "output_type": "execute_result"
    }
   ],
   "source": [
    "tf['responsibilities']"
   ]
  },
  {
   "cell_type": "code",
   "execution_count": 98,
   "id": "40d97e3a",
   "metadata": {},
   "outputs": [],
   "source": [
    "import nltk\n",
    "from typing import List\n",
    "from nltk import word_tokenize, pos_tag\n",
    "\n",
    "def count_action_verbs(responsibilities: List[str]) -> int:\n",
    "    text = \" \".join(r.replace(\"_\", \" \") for r in responsibilities)\n",
    "    doc = nlp(text)\n",
    "    return sum(1 for token in doc if token.pos_ == \"VERB\")\n",
    "\n",
    "def compute_odi_tools(row):\n",
    "    skills = (\n",
    "        row[\"programming_languages\"]\n",
    "        + row[\"frameworks_tools\"]\n",
    "        + row[\"cloud_platforms\"]\n",
    "        + row[\"databases\"]\n",
    "        + row[\"api_protocols\"]\n",
    "        + row[\"methodologies\"]\n",
    "    )\n",
    "    num_skills = len(set(skills))\n",
    "    num_verbs = count_action_verbs(row[\"responsibilities\"])\n",
    "    if num_verbs == 0:\n",
    "        return None\n",
    "    return round(num_skills / num_verbs, 2)\n"
   ]
  },
  {
   "cell_type": "code",
   "execution_count": 102,
   "id": "2899532c",
   "metadata": {},
   "outputs": [],
   "source": [
    "tf[\"ODI_tools\"] = tf.apply(compute_odi_tools, axis=1)\n",
    "tf[\"is_haio_jd\"] = tf[\"ODI_tools\"].apply(lambda x: x > 1.0 if pd.notna(x) else False)\n"
   ]
  },
  {
   "cell_type": "code",
   "execution_count": 104,
   "id": "c07a9758",
   "metadata": {},
   "outputs": [
    {
     "name": "stdout",
     "output_type": "stream",
     "text": [
      "总 JD 数： 36\n",
      "有效 ODI 数： 32\n",
      "海王 JD 数量： 4\n",
      "海王占比：11.11%\n",
      "ODI 均值（全部）： 0.62\n",
      "ODI 均值（海王）： 1.51\n"
     ]
    }
   ],
   "source": [
    "print(\"总 JD 数：\", len(tf))\n",
    "print(\"有效 ODI 数：\", tf[\"ODI_tools\"].notna().sum())\n",
    "print(\"海王 JD 数量：\", tf[\"is_haio_jd\"].sum())\n",
    "print(\"海王占比：{:.2%}\".format(tf[\"is_haio_jd\"].mean()))\n",
    "print(\"ODI 均值（全部）：\", round(tf[\"ODI_tools\"].mean(), 2))\n",
    "print(\"ODI 均值（海王）：\", round(tf[tf[\"is_haio_jd\"]][\"ODI_tools\"].mean(), 2))"
   ]
  },
  {
   "cell_type": "code",
   "execution_count": 105,
   "id": "7289e551",
   "metadata": {},
   "outputs": [
    {
     "name": "stderr",
     "output_type": "stream",
     "text": [
      "/var/folders/kg/sv7mcxxx3gs6hd98075nl0p40000gn/T/ipykernel_75624/2611233331.py:15: UserWarning: Glyph 65288 (\\N{FULLWIDTH LEFT PARENTHESIS}) missing from font(s) Arial.\n",
      "  plt.tight_layout()\n",
      "/var/folders/kg/sv7mcxxx3gs6hd98075nl0p40000gn/T/ipykernel_75624/2611233331.py:15: UserWarning: Glyph 24037 (\\N{CJK UNIFIED IDEOGRAPH-5DE5}) missing from font(s) Arial.\n",
      "  plt.tight_layout()\n",
      "/var/folders/kg/sv7mcxxx3gs6hd98075nl0p40000gn/T/ipykernel_75624/2611233331.py:15: UserWarning: Glyph 20855 (\\N{CJK UNIFIED IDEOGRAPH-5177}) missing from font(s) Arial.\n",
      "  plt.tight_layout()\n",
      "/var/folders/kg/sv7mcxxx3gs6hd98075nl0p40000gn/T/ipykernel_75624/2611233331.py:15: UserWarning: Glyph 25968 (\\N{CJK UNIFIED IDEOGRAPH-6570}) missing from font(s) Arial.\n",
      "  plt.tight_layout()\n",
      "/var/folders/kg/sv7mcxxx3gs6hd98075nl0p40000gn/T/ipykernel_75624/2611233331.py:15: UserWarning: Glyph 37327 (\\N{CJK UNIFIED IDEOGRAPH-91CF}) missing from font(s) Arial.\n",
      "  plt.tight_layout()\n",
      "/var/folders/kg/sv7mcxxx3gs6hd98075nl0p40000gn/T/ipykernel_75624/2611233331.py:15: UserWarning: Glyph 32844 (\\N{CJK UNIFIED IDEOGRAPH-804C}) missing from font(s) Arial.\n",
      "  plt.tight_layout()\n",
      "/var/folders/kg/sv7mcxxx3gs6hd98075nl0p40000gn/T/ipykernel_75624/2611233331.py:15: UserWarning: Glyph 36131 (\\N{CJK UNIFIED IDEOGRAPH-8D23}) missing from font(s) Arial.\n",
      "  plt.tight_layout()\n",
      "/var/folders/kg/sv7mcxxx3gs6hd98075nl0p40000gn/T/ipykernel_75624/2611233331.py:15: UserWarning: Glyph 21160 (\\N{CJK UNIFIED IDEOGRAPH-52A8}) missing from font(s) Arial.\n",
      "  plt.tight_layout()\n",
      "/var/folders/kg/sv7mcxxx3gs6hd98075nl0p40000gn/T/ipykernel_75624/2611233331.py:15: UserWarning: Glyph 35789 (\\N{CJK UNIFIED IDEOGRAPH-8BCD}) missing from font(s) Arial.\n",
      "  plt.tight_layout()\n",
      "/var/folders/kg/sv7mcxxx3gs6hd98075nl0p40000gn/T/ipykernel_75624/2611233331.py:15: UserWarning: Glyph 65289 (\\N{FULLWIDTH RIGHT PARENTHESIS}) missing from font(s) Arial.\n",
      "  plt.tight_layout()\n",
      "/var/folders/kg/sv7mcxxx3gs6hd98075nl0p40000gn/T/ipykernel_75624/2611233331.py:15: UserWarning: Glyph 23494 (\\N{CJK UNIFIED IDEOGRAPH-5BC6}) missing from font(s) Arial.\n",
      "  plt.tight_layout()\n",
      "/var/folders/kg/sv7mcxxx3gs6hd98075nl0p40000gn/T/ipykernel_75624/2611233331.py:15: UserWarning: Glyph 24230 (\\N{CJK UNIFIED IDEOGRAPH-5EA6}) missing from font(s) Arial.\n",
      "  plt.tight_layout()\n",
      "/var/folders/kg/sv7mcxxx3gs6hd98075nl0p40000gn/T/ipykernel_75624/2611233331.py:15: UserWarning: Glyph 25351 (\\N{CJK UNIFIED IDEOGRAPH-6307}) missing from font(s) Arial.\n",
      "  plt.tight_layout()\n",
      "/var/folders/kg/sv7mcxxx3gs6hd98075nl0p40000gn/T/ipykernel_75624/2611233331.py:15: UserWarning: Glyph 26631 (\\N{CJK UNIFIED IDEOGRAPH-6807}) missing from font(s) Arial.\n",
      "  plt.tight_layout()\n",
      "/var/folders/kg/sv7mcxxx3gs6hd98075nl0p40000gn/T/ipykernel_75624/2611233331.py:15: UserWarning: Glyph 20998 (\\N{CJK UNIFIED IDEOGRAPH-5206}) missing from font(s) Arial.\n",
      "  plt.tight_layout()\n",
      "/var/folders/kg/sv7mcxxx3gs6hd98075nl0p40000gn/T/ipykernel_75624/2611233331.py:15: UserWarning: Glyph 24067 (\\N{CJK UNIFIED IDEOGRAPH-5E03}) missing from font(s) Arial.\n",
      "  plt.tight_layout()\n",
      "/var/folders/kg/sv7mcxxx3gs6hd98075nl0p40000gn/T/ipykernel_75624/2611233331.py:15: UserWarning: Glyph 28023 (\\N{CJK UNIFIED IDEOGRAPH-6D77}) missing from font(s) Arial.\n",
      "  plt.tight_layout()\n",
      "/var/folders/kg/sv7mcxxx3gs6hd98075nl0p40000gn/T/ipykernel_75624/2611233331.py:15: UserWarning: Glyph 29579 (\\N{CJK UNIFIED IDEOGRAPH-738B}) missing from font(s) Arial.\n",
      "  plt.tight_layout()\n",
      "/var/folders/kg/sv7mcxxx3gs6hd98075nl0p40000gn/T/ipykernel_75624/2611233331.py:15: UserWarning: Glyph 38408 (\\N{CJK UNIFIED IDEOGRAPH-9608}) missing from font(s) Arial.\n",
      "  plt.tight_layout()\n",
      "/var/folders/kg/sv7mcxxx3gs6hd98075nl0p40000gn/T/ipykernel_75624/2611233331.py:15: UserWarning: Glyph 20540 (\\N{CJK UNIFIED IDEOGRAPH-503C}) missing from font(s) Arial.\n",
      "  plt.tight_layout()\n",
      "/Users/zhuangxiaojian/Documents/applyday/.venv/lib/python3.12/site-packages/IPython/core/pylabtools.py:170: UserWarning: Glyph 65288 (\\N{FULLWIDTH LEFT PARENTHESIS}) missing from font(s) Arial.\n",
      "  fig.canvas.print_figure(bytes_io, **kw)\n",
      "/Users/zhuangxiaojian/Documents/applyday/.venv/lib/python3.12/site-packages/IPython/core/pylabtools.py:170: UserWarning: Glyph 24037 (\\N{CJK UNIFIED IDEOGRAPH-5DE5}) missing from font(s) Arial.\n",
      "  fig.canvas.print_figure(bytes_io, **kw)\n",
      "/Users/zhuangxiaojian/Documents/applyday/.venv/lib/python3.12/site-packages/IPython/core/pylabtools.py:170: UserWarning: Glyph 20855 (\\N{CJK UNIFIED IDEOGRAPH-5177}) missing from font(s) Arial.\n",
      "  fig.canvas.print_figure(bytes_io, **kw)\n",
      "/Users/zhuangxiaojian/Documents/applyday/.venv/lib/python3.12/site-packages/IPython/core/pylabtools.py:170: UserWarning: Glyph 25968 (\\N{CJK UNIFIED IDEOGRAPH-6570}) missing from font(s) Arial.\n",
      "  fig.canvas.print_figure(bytes_io, **kw)\n",
      "/Users/zhuangxiaojian/Documents/applyday/.venv/lib/python3.12/site-packages/IPython/core/pylabtools.py:170: UserWarning: Glyph 37327 (\\N{CJK UNIFIED IDEOGRAPH-91CF}) missing from font(s) Arial.\n",
      "  fig.canvas.print_figure(bytes_io, **kw)\n",
      "/Users/zhuangxiaojian/Documents/applyday/.venv/lib/python3.12/site-packages/IPython/core/pylabtools.py:170: UserWarning: Glyph 32844 (\\N{CJK UNIFIED IDEOGRAPH-804C}) missing from font(s) Arial.\n",
      "  fig.canvas.print_figure(bytes_io, **kw)\n",
      "/Users/zhuangxiaojian/Documents/applyday/.venv/lib/python3.12/site-packages/IPython/core/pylabtools.py:170: UserWarning: Glyph 36131 (\\N{CJK UNIFIED IDEOGRAPH-8D23}) missing from font(s) Arial.\n",
      "  fig.canvas.print_figure(bytes_io, **kw)\n",
      "/Users/zhuangxiaojian/Documents/applyday/.venv/lib/python3.12/site-packages/IPython/core/pylabtools.py:170: UserWarning: Glyph 21160 (\\N{CJK UNIFIED IDEOGRAPH-52A8}) missing from font(s) Arial.\n",
      "  fig.canvas.print_figure(bytes_io, **kw)\n",
      "/Users/zhuangxiaojian/Documents/applyday/.venv/lib/python3.12/site-packages/IPython/core/pylabtools.py:170: UserWarning: Glyph 35789 (\\N{CJK UNIFIED IDEOGRAPH-8BCD}) missing from font(s) Arial.\n",
      "  fig.canvas.print_figure(bytes_io, **kw)\n",
      "/Users/zhuangxiaojian/Documents/applyday/.venv/lib/python3.12/site-packages/IPython/core/pylabtools.py:170: UserWarning: Glyph 65289 (\\N{FULLWIDTH RIGHT PARENTHESIS}) missing from font(s) Arial.\n",
      "  fig.canvas.print_figure(bytes_io, **kw)\n",
      "/Users/zhuangxiaojian/Documents/applyday/.venv/lib/python3.12/site-packages/IPython/core/pylabtools.py:170: UserWarning: Glyph 23494 (\\N{CJK UNIFIED IDEOGRAPH-5BC6}) missing from font(s) Arial.\n",
      "  fig.canvas.print_figure(bytes_io, **kw)\n",
      "/Users/zhuangxiaojian/Documents/applyday/.venv/lib/python3.12/site-packages/IPython/core/pylabtools.py:170: UserWarning: Glyph 24230 (\\N{CJK UNIFIED IDEOGRAPH-5EA6}) missing from font(s) Arial.\n",
      "  fig.canvas.print_figure(bytes_io, **kw)\n",
      "/Users/zhuangxiaojian/Documents/applyday/.venv/lib/python3.12/site-packages/IPython/core/pylabtools.py:170: UserWarning: Glyph 25351 (\\N{CJK UNIFIED IDEOGRAPH-6307}) missing from font(s) Arial.\n",
      "  fig.canvas.print_figure(bytes_io, **kw)\n",
      "/Users/zhuangxiaojian/Documents/applyday/.venv/lib/python3.12/site-packages/IPython/core/pylabtools.py:170: UserWarning: Glyph 26631 (\\N{CJK UNIFIED IDEOGRAPH-6807}) missing from font(s) Arial.\n",
      "  fig.canvas.print_figure(bytes_io, **kw)\n",
      "/Users/zhuangxiaojian/Documents/applyday/.venv/lib/python3.12/site-packages/IPython/core/pylabtools.py:170: UserWarning: Glyph 20998 (\\N{CJK UNIFIED IDEOGRAPH-5206}) missing from font(s) Arial.\n",
      "  fig.canvas.print_figure(bytes_io, **kw)\n",
      "/Users/zhuangxiaojian/Documents/applyday/.venv/lib/python3.12/site-packages/IPython/core/pylabtools.py:170: UserWarning: Glyph 24067 (\\N{CJK UNIFIED IDEOGRAPH-5E03}) missing from font(s) Arial.\n",
      "  fig.canvas.print_figure(bytes_io, **kw)\n",
      "/Users/zhuangxiaojian/Documents/applyday/.venv/lib/python3.12/site-packages/IPython/core/pylabtools.py:170: UserWarning: Glyph 28023 (\\N{CJK UNIFIED IDEOGRAPH-6D77}) missing from font(s) Arial.\n",
      "  fig.canvas.print_figure(bytes_io, **kw)\n",
      "/Users/zhuangxiaojian/Documents/applyday/.venv/lib/python3.12/site-packages/IPython/core/pylabtools.py:170: UserWarning: Glyph 29579 (\\N{CJK UNIFIED IDEOGRAPH-738B}) missing from font(s) Arial.\n",
      "  fig.canvas.print_figure(bytes_io, **kw)\n",
      "/Users/zhuangxiaojian/Documents/applyday/.venv/lib/python3.12/site-packages/IPython/core/pylabtools.py:170: UserWarning: Glyph 38408 (\\N{CJK UNIFIED IDEOGRAPH-9608}) missing from font(s) Arial.\n",
      "  fig.canvas.print_figure(bytes_io, **kw)\n",
      "/Users/zhuangxiaojian/Documents/applyday/.venv/lib/python3.12/site-packages/IPython/core/pylabtools.py:170: UserWarning: Glyph 20540 (\\N{CJK UNIFIED IDEOGRAPH-503C}) missing from font(s) Arial.\n",
      "  fig.canvas.print_figure(bytes_io, **kw)\n"
     ]
    },
    {
     "data": {
      "image/png": "[encoded data removed]",
      "text/plain": [
       "<Figure size 1000x500 with 1 Axes>"
      ]
     },
     "metadata": {},
     "output_type": "display_data"
    }
   ],
   "source": [
    "import matplotlib.pyplot as plt\n",
    "import seaborn as sns\n",
    "\n",
    "# 设置风格\n",
    "sns.set(style=\"whitegrid\")\n",
    "\n",
    "# 画 ODI 分布图\n",
    "plt.figure(figsize=(10, 5))\n",
    "sns.histplot(tf[\"ODI_tools\"].dropna(), bins=20, kde=True, color=\"skyblue\", edgecolor=\"black\")\n",
    "plt.axvline(1.0, color=\"red\", linestyle=\"--\", label=\"海王阈值 ODI=1.0\")\n",
    "plt.title(\"工具密度指标（ODI）分布\")\n",
    "plt.xlabel(\"ODI（工具数量 / 职责动词数量）\")\n",
    "plt.ylabel(\"JD 数量\")\n",
    "plt.legend()\n",
    "plt.tight_layout()\n",
    "plt.show()\n"
   ]
  },
  {
   "cell_type": "code",
   "execution_count": null,
   "id": "7236d3ca",
   "metadata": {},
   "outputs": [],
   "source": []
  }
 ],
 "metadata": {
  "kernelspec": {
   "display_name": ".venv",
   "language": "python",
   "name": "python3"
  },
  "language_info": {
   "codemirror_mode": {
    "name": "ipython",
    "version": 3
   },
   "file_extension": ".py",
   "mimetype": "text/x-python",
   "name": "python",
   "nbconvert_exporter": "python",
   "pygments_lexer": "ipython3",
   "version": "3.12.9"
  }
 },
 "nbformat": 4,
 "nbformat_minor": 5
}
